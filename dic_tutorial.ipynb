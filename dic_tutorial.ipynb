{
 "cells": [
  {
   "cell_type": "code",
   "execution_count": 1,
   "metadata": {
    "ExecuteTime": {
     "end_time": "2019-09-30T06:34:07.642161Z",
     "start_time": "2019-09-30T06:34:07.636209Z"
    }
   },
   "outputs": [
    {
     "name": "stdout",
     "output_type": "stream",
     "text": [
      "{'a': 2, 'b': 3, 'c': 2}\n"
     ]
    }
   ],
   "source": [
    "s= ['a', 'b', 'c', 'b', 'a', 'b', 'c']\n",
    "dic = {}\n",
    "for i in s:\n",
    "    if i not in dic.keys():\n",
    "        dic[i] = 0\n",
    "    dic[i] +=1\n",
    "\n",
    "print(dic)"
   ]
  },
  {
   "cell_type": "code",
   "execution_count": 7,
   "metadata": {
    "ExecuteTime": {
     "end_time": "2019-09-30T06:37:40.546281Z",
     "start_time": "2019-09-30T06:37:40.543286Z"
    }
   },
   "outputs": [],
   "source": [
    "test = {}"
   ]
  },
  {
   "cell_type": "code",
   "execution_count": 8,
   "metadata": {
    "ExecuteTime": {
     "end_time": "2019-09-30T06:37:51.277594Z",
     "start_time": "2019-09-30T06:37:51.272599Z"
    }
   },
   "outputs": [
    {
     "data": {
      "text/plain": [
       "dict_keys([])"
      ]
     },
     "execution_count": 8,
     "metadata": {},
     "output_type": "execute_result"
    }
   ],
   "source": [
    "test.keys()"
   ]
  },
  {
   "cell_type": "code",
   "execution_count": 9,
   "metadata": {
    "ExecuteTime": {
     "end_time": "2019-09-30T06:38:03.172009Z",
     "start_time": "2019-09-30T06:38:03.037368Z"
    }
   },
   "outputs": [
    {
     "ename": "NameError",
     "evalue": "name 'a' is not defined",
     "output_type": "error",
     "traceback": [
      "\u001b[1;31m---------------------------------------------------------------------------\u001b[0m",
      "\u001b[1;31mNameError\u001b[0m                                 Traceback (most recent call last)",
      "\u001b[1;32m<ipython-input-9-c8a38645d5c6>\u001b[0m in \u001b[0;36m<module>\u001b[1;34m\u001b[0m\n\u001b[1;32m----> 1\u001b[1;33m \u001b[0mtest\u001b[0m\u001b[1;33m[\u001b[0m\u001b[0ma\u001b[0m\u001b[1;33m]\u001b[0m \u001b[1;33m=\u001b[0m \u001b[1;36m0\u001b[0m\u001b[1;33m\u001b[0m\u001b[1;33m\u001b[0m\u001b[0m\n\u001b[0m",
      "\u001b[1;31mNameError\u001b[0m: name 'a' is not defined"
     ]
    }
   ],
   "source": [
    "test[a] = 0"
   ]
  },
  {
   "cell_type": "code",
   "execution_count": 10,
   "metadata": {
    "ExecuteTime": {
     "end_time": "2019-09-30T06:41:03.311022Z",
     "start_time": "2019-09-30T06:41:03.306035Z"
    }
   },
   "outputs": [
    {
     "name": "stdout",
     "output_type": "stream",
     "text": [
      "a\n",
      "b\n",
      "c\n",
      "b\n",
      "a\n",
      "b\n",
      "c\n"
     ]
    }
   ],
   "source": [
    "s= ['a', 'b', 'c', 'b', 'a', 'b', 'c']\n",
    "for i in s:\n",
    "    print(i)"
   ]
  },
  {
   "cell_type": "code",
   "execution_count": 11,
   "metadata": {
    "ExecuteTime": {
     "end_time": "2019-09-30T06:41:30.830478Z",
     "start_time": "2019-09-30T06:41:30.820478Z"
    }
   },
   "outputs": [
    {
     "ename": "NameError",
     "evalue": "name 'a' is not defined",
     "output_type": "error",
     "traceback": [
      "\u001b[1;31m---------------------------------------------------------------------------\u001b[0m",
      "\u001b[1;31mNameError\u001b[0m                                 Traceback (most recent call last)",
      "\u001b[1;32m<ipython-input-11-f6cea9ed93aa>\u001b[0m in \u001b[0;36m<module>\u001b[1;34m\u001b[0m\n\u001b[1;32m----> 1\u001b[1;33m \u001b[0mtest\u001b[0m\u001b[1;33m[\u001b[0m\u001b[0ma\u001b[0m\u001b[1;33m]\u001b[0m \u001b[1;33m=\u001b[0m \u001b[0mtest\u001b[0m\u001b[1;33m[\u001b[0m\u001b[0ma\u001b[0m\u001b[1;33m]\u001b[0m \u001b[1;33m+\u001b[0m \u001b[1;36m1\u001b[0m\u001b[1;33m\u001b[0m\u001b[1;33m\u001b[0m\u001b[0m\n\u001b[0m",
      "\u001b[1;31mNameError\u001b[0m: name 'a' is not defined"
     ]
    }
   ],
   "source": [
    "test[a] = test[a] + 1 "
   ]
  },
  {
   "cell_type": "code",
   "execution_count": 12,
   "metadata": {
    "ExecuteTime": {
     "end_time": "2019-09-30T06:41:38.459076Z",
     "start_time": "2019-09-30T06:41:38.454063Z"
    }
   },
   "outputs": [
    {
     "data": {
      "text/plain": [
       "{}"
      ]
     },
     "execution_count": 12,
     "metadata": {},
     "output_type": "execute_result"
    }
   ],
   "source": [
    "test"
   ]
  },
  {
   "cell_type": "code",
   "execution_count": 13,
   "metadata": {
    "ExecuteTime": {
     "end_time": "2019-09-30T06:41:43.431786Z",
     "start_time": "2019-09-30T06:41:43.422778Z"
    }
   },
   "outputs": [
    {
     "ename": "KeyError",
     "evalue": "'a'",
     "output_type": "error",
     "traceback": [
      "\u001b[1;31m---------------------------------------------------------------------------\u001b[0m",
      "\u001b[1;31mKeyError\u001b[0m                                  Traceback (most recent call last)",
      "\u001b[1;32m<ipython-input-13-ff0861b40897>\u001b[0m in \u001b[0;36m<module>\u001b[1;34m\u001b[0m\n\u001b[1;32m----> 1\u001b[1;33m \u001b[0mtest\u001b[0m\u001b[1;33m[\u001b[0m\u001b[1;34m'a'\u001b[0m\u001b[1;33m]\u001b[0m\u001b[1;33m\u001b[0m\u001b[1;33m\u001b[0m\u001b[0m\n\u001b[0m",
      "\u001b[1;31mKeyError\u001b[0m: 'a'"
     ]
    }
   ],
   "source": [
    "test['a']"
   ]
  },
  {
   "cell_type": "code",
   "execution_count": 14,
   "metadata": {
    "ExecuteTime": {
     "end_time": "2019-09-30T06:42:02.277381Z",
     "start_time": "2019-09-30T06:42:02.272380Z"
    }
   },
   "outputs": [],
   "source": [
    "test['a'] = 1"
   ]
  },
  {
   "cell_type": "code",
   "execution_count": 15,
   "metadata": {
    "ExecuteTime": {
     "end_time": "2019-09-30T06:42:04.851498Z",
     "start_time": "2019-09-30T06:42:04.846499Z"
    }
   },
   "outputs": [
    {
     "data": {
      "text/plain": [
       "{'a': 1}"
      ]
     },
     "execution_count": 15,
     "metadata": {},
     "output_type": "execute_result"
    }
   ],
   "source": [
    "test"
   ]
  },
  {
   "cell_type": "code",
   "execution_count": 16,
   "metadata": {
    "ExecuteTime": {
     "end_time": "2019-09-30T06:42:34.047438Z",
     "start_time": "2019-09-30T06:42:34.041443Z"
    }
   },
   "outputs": [
    {
     "name": "stdout",
     "output_type": "stream",
     "text": [
      "{'a': 2, 'b': 3, 'c': 2}\n"
     ]
    }
   ],
   "source": [
    "s= ['a', 'b', 'c', 'b', 'a', 'b', 'c']\n",
    "dic = {}\n",
    "for i in s:\n",
    "    if i not in dic.keys():\n",
    "        dic[i] = 0\n",
    "    dic[i] +=1\n",
    "\n",
    "print(dic)"
   ]
  },
  {
   "cell_type": "code",
   "execution_count": 17,
   "metadata": {
    "ExecuteTime": {
     "end_time": "2019-09-30T06:42:41.588264Z",
     "start_time": "2019-09-30T06:42:41.584276Z"
    }
   },
   "outputs": [],
   "source": [
    "test1 = {}"
   ]
  },
  {
   "cell_type": "code",
   "execution_count": 18,
   "metadata": {
    "ExecuteTime": {
     "end_time": "2019-09-30T06:43:38.025372Z",
     "start_time": "2019-09-30T06:43:38.022380Z"
    }
   },
   "outputs": [],
   "source": [
    "test1['a'] = 0"
   ]
  },
  {
   "cell_type": "code",
   "execution_count": 19,
   "metadata": {
    "ExecuteTime": {
     "end_time": "2019-09-30T06:43:40.950552Z",
     "start_time": "2019-09-30T06:43:40.945565Z"
    }
   },
   "outputs": [
    {
     "data": {
      "text/plain": [
       "{'a': 0}"
      ]
     },
     "execution_count": 19,
     "metadata": {},
     "output_type": "execute_result"
    }
   ],
   "source": [
    "test1"
   ]
  },
  {
   "cell_type": "markdown",
   "metadata": {},
   "source": [
    "기본적으로 dic 을 구성하기 위해선 key 마다 기본값들을 정해준 뒤에야 연산이 가능합니다. \n",
    "\n",
    "그래서 dic 을 사용하기 위해서는 초기화를 해주는 과정이 필요합니다. \n",
    "\n",
    "하지만 python 에는 dict 을 더 쉽게 사용하기 위해 제공하는 여러 메소드들이 있습니다. \n",
    "\n",
    "대표적인 함수들은 setdefault, defaultdict 입니다.\n",
    "\n"
   ]
  },
  {
   "cell_type": "markdown",
   "metadata": {},
   "source": [
    "# dict 구성하는 방법 - setdefault "
   ]
  },
  {
   "cell_type": "code",
   "execution_count": 28,
   "metadata": {
    "ExecuteTime": {
     "end_time": "2019-09-30T06:48:51.214284Z",
     "start_time": "2019-09-30T06:48:51.209265Z"
    }
   },
   "outputs": [
    {
     "name": "stdout",
     "output_type": "stream",
     "text": [
      "[('a', 2), ('b', 3), ('c', 2)]\n"
     ]
    }
   ],
   "source": [
    "s= ['a', 'b', 'c', 'b', 'a', 'b', 'c']\n",
    "dic = {}\n",
    "for i in s:\n",
    "    if i not in dic.keys():\n",
    "        dic[i] = 0\n",
    "    dic[i] +=1\n",
    "\n",
    "print(list(dic.items()))"
   ]
  },
  {
   "cell_type": "code",
   "execution_count": 38,
   "metadata": {
    "ExecuteTime": {
     "end_time": "2019-09-30T08:21:31.456170Z",
     "start_time": "2019-09-30T08:21:31.451184Z"
    }
   },
   "outputs": [
    {
     "name": "stdout",
     "output_type": "stream",
     "text": [
      "{'a': 1}\n",
      "{'a': 1, 'b': 1}\n",
      "{'a': 1, 'b': 1, 'c': 1}\n",
      "{'a': 1, 'b': 2, 'c': 1}\n",
      "{'a': 2, 'b': 2, 'c': 1}\n",
      "{'a': 2, 'b': 3, 'c': 1}\n",
      "{'a': 2, 'b': 3, 'c': 2}\n",
      "[('a', 2), ('b', 3), ('c', 2)]\n"
     ]
    }
   ],
   "source": [
    "s= ['a', 'b', 'c', 'b', 'a', 'b', 'c']\n",
    "d= {}\n",
    "\n",
    "for k in s:\n",
    "    d.setdefault(k,0)\n",
    "    d[k]+=1\n",
    "    print(d)\n",
    "    \n",
    "print(list(d.items()))"
   ]
  },
  {
   "cell_type": "markdown",
   "metadata": {},
   "source": [
    "setdefault 는 키값과 값 하나를 인자로 받는 dict 의 매소드 입니다. \n",
    "\n",
    "setdefault 는 키값이 있다면 키값을 반환하고 없다면 두 번째 인자를 반환합니다."
   ]
  },
  {
   "cell_type": "markdown",
   "metadata": {},
   "source": [
    "# dict 구성하는 방법 - defaultdict "
   ]
  },
  {
   "cell_type": "code",
   "execution_count": 35,
   "metadata": {
    "ExecuteTime": {
     "end_time": "2019-09-30T08:19:55.463283Z",
     "start_time": "2019-09-30T08:19:55.456302Z"
    }
   },
   "outputs": [
    {
     "name": "stdout",
     "output_type": "stream",
     "text": [
      "defaultdict(<class 'int'>, {'a': 1})\n",
      "defaultdict(<class 'int'>, {'a': 1, 'b': 1})\n",
      "defaultdict(<class 'int'>, {'a': 1, 'b': 1, 'c': 1})\n",
      "defaultdict(<class 'int'>, {'a': 1, 'b': 2, 'c': 1})\n",
      "defaultdict(<class 'int'>, {'a': 2, 'b': 2, 'c': 1})\n",
      "defaultdict(<class 'int'>, {'a': 2, 'b': 3, 'c': 1})\n",
      "defaultdict(<class 'int'>, {'a': 2, 'b': 3, 'c': 2})\n",
      "{'a': 2, 'b': 3, 'c': 2}\n"
     ]
    }
   ],
   "source": [
    "import collections\n",
    "\n",
    "s= ['a', 'b', 'c', 'b', 'a', 'b', 'c']\n",
    "\n",
    "d = collections.defaultdict(int)\n",
    "\n",
    "for k in s:\n",
    "    d[k] += 1\n",
    "    print(d)\n",
    "\n",
    "print(dict(d))\n"
   ]
  },
  {
   "cell_type": "markdown",
   "metadata": {},
   "source": [
    "defaultdict 은 말 그대로 dictionary 의 기본값을 정의하고 값이 없을 경우 에러를 출력하지 않고 기본값을 출력합니다. setdefault 보다 빠른 것이 장점입니다.\n",
    "\n",
    "collections.defaultdict(int) 에서 int 자리에는 list 혹은 다른 object 형태들로 지정가능합니다."
   ]
  },
  {
   "cell_type": "code",
   "execution_count": 40,
   "metadata": {
    "ExecuteTime": {
     "end_time": "2019-09-30T08:47:53.539299Z",
     "start_time": "2019-09-30T08:47:53.534342Z"
    }
   },
   "outputs": [
    {
     "name": "stdout",
     "output_type": "stream",
     "text": [
      "Counter({'b': 3, 'a': 2, 'c': 2})\n"
     ]
    }
   ],
   "source": [
    "import collections\n",
    "\n",
    "s= ['a', 'b', 'c', 'b', 'a', 'b', 'c']\n",
    "\n",
    "c = collections.Counter(s)\n",
    "\n",
    "print(c)"
   ]
  },
  {
   "cell_type": "code",
   "execution_count": null,
   "metadata": {},
   "outputs": [],
   "source": []
  }
 ],
 "metadata": {
  "hide_input": false,
  "kernelspec": {
   "display_name": "Python 3",
   "language": "python",
   "name": "python3"
  },
  "language_info": {
   "codemirror_mode": {
    "name": "ipython",
    "version": 3
   },
   "file_extension": ".py",
   "mimetype": "text/x-python",
   "name": "python",
   "nbconvert_exporter": "python",
   "pygments_lexer": "ipython3",
   "version": "3.6.9"
  },
  "toc": {
   "base_numbering": 1,
   "nav_menu": {},
   "number_sections": true,
   "sideBar": true,
   "skip_h1_title": false,
   "title_cell": "Table of Contents",
   "title_sidebar": "Contents",
   "toc_cell": false,
   "toc_position": {},
   "toc_section_display": true,
   "toc_window_display": false
  },
  "varInspector": {
   "cols": {
    "lenName": 16,
    "lenType": 16,
    "lenVar": 40
   },
   "kernels_config": {
    "python": {
     "delete_cmd_postfix": "",
     "delete_cmd_prefix": "del ",
     "library": "var_list.py",
     "varRefreshCmd": "print(var_dic_list())"
    },
    "r": {
     "delete_cmd_postfix": ") ",
     "delete_cmd_prefix": "rm(",
     "library": "var_list.r",
     "varRefreshCmd": "cat(var_dic_list()) "
    }
   },
   "types_to_exclude": [
    "module",
    "function",
    "builtin_function_or_method",
    "instance",
    "_Feature"
   ],
   "window_display": false
  }
 },
 "nbformat": 4,
 "nbformat_minor": 2
}
