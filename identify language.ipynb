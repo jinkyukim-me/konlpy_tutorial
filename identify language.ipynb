{
 "cells": [
  {
   "cell_type": "markdown",
   "metadata": {},
   "source": [
    "* 텍스트 테이터의 경우 나이브 베이즈(NaiveBayes)를 사용할 것을 추천합니다\n",
    "* scikit-learn은 3종류의 나이브베이즈 학습기를 제공합니다\n",
    "* 이 중에서 가장 간단한 GaussianNB를 사용해 봅니다"
   ]
  },
  {
   "cell_type": "code",
   "execution_count": 1,
   "metadata": {
    "ExecuteTime": {
     "end_time": "2019-09-27T08:24:45.587555Z",
     "start_time": "2019-09-27T08:24:44.872351Z"
    }
   },
   "outputs": [],
   "source": [
    "import numpy as np\n",
    "from sklearn.naive_bayes import GaussianNB\n",
    "from sklearn.metrics import accuracy_score"
   ]
  },
  {
   "cell_type": "code",
   "execution_count": 2,
   "metadata": {
    "ExecuteTime": {
     "end_time": "2019-09-27T08:24:45.595414Z",
     "start_time": "2019-09-27T08:24:45.589463Z"
    }
   },
   "outputs": [],
   "source": [
    "# Unicode 코드 포인트로 출현 빈도 판정하기 --- (*1)\n",
    "def count_codePoint(str):\n",
    "    # Unicode 코드 포인트를 저장할 배열 준비하기 --- (*2)\n",
    "    counter = np.zeros(65535)\n",
    "\n",
    "    for i in range(len(str)):\n",
    "        # 각 문자를 Unicode 코드 포인트로 변환하기 --- (*3)\n",
    "        code_point = ord(str[i])\n",
    "        if code_point > 65535 :\n",
    "            continue\n",
    "        # 출현 횟수 세기 --- (*4)\n",
    "        counter[code_point] += 1\n",
    "\n",
    "    # 각 요소를 문자 수로 나눠 정규화하기 --- (*5)\n",
    "    counter = counter/len(str)\n",
    "    return counter"
   ]
  },
  {
   "cell_type": "code",
   "execution_count": 3,
   "metadata": {
    "ExecuteTime": {
     "end_time": "2019-09-27T08:24:45.618486Z",
     "start_time": "2019-09-27T08:24:45.598406Z"
    }
   },
   "outputs": [],
   "source": [
    "# 학습 전용 데이터 준비하기\n",
    "ko_str = '이것은 한국어 문장입니다.'\n",
    "ja_str = 'これは日本語の文章です。'\n",
    "en_str = 'This is English Sentences.'\n",
    "\n",
    "x_train = [count_codePoint(ko_str),count_codePoint(ja_str),count_codePoint(en_str)]\n",
    "y_train = ['ko','ja','en']"
   ]
  },
  {
   "cell_type": "code",
   "execution_count": 4,
   "metadata": {
    "ExecuteTime": {
     "end_time": "2019-09-27T08:24:45.655256Z",
     "start_time": "2019-09-27T08:24:45.620347Z"
    }
   },
   "outputs": [
    {
     "data": {
      "text/plain": [
       "GaussianNB(priors=None, var_smoothing=1e-09)"
      ]
     },
     "execution_count": 4,
     "metadata": {},
     "output_type": "execute_result"
    }
   ],
   "source": [
    "# 학습하기 --- (*6)\n",
    "clf = GaussianNB() \n",
    "clf.fit(x_train, y_train)"
   ]
  },
  {
   "cell_type": "code",
   "execution_count": 5,
   "metadata": {
    "ExecuteTime": {
     "end_time": "2019-09-27T08:24:45.661236Z",
     "start_time": "2019-09-27T08:24:45.657248Z"
    }
   },
   "outputs": [],
   "source": [
    "# 평가 전용 데이터 준비하기\n",
    "ko_test_str = '안녕하세요'\n",
    "ja_test_str = 'こんにちは'\n",
    "en_test_str = 'Hello'"
   ]
  },
  {
   "cell_type": "code",
   "execution_count": 6,
   "metadata": {
    "ExecuteTime": {
     "end_time": "2019-09-27T08:24:45.674204Z",
     "start_time": "2019-09-27T08:24:45.663233Z"
    }
   },
   "outputs": [],
   "source": [
    "x_test = [count_codePoint(en_test_str),count_codePoint(ja_test_str),count_codePoint(ko_test_str)]\n",
    "y_test = ['en', 'ja', 'ko']"
   ]
  },
  {
   "cell_type": "code",
   "execution_count": 7,
   "metadata": {
    "ExecuteTime": {
     "end_time": "2019-09-27T08:24:45.698139Z",
     "start_time": "2019-09-27T08:24:45.677195Z"
    }
   },
   "outputs": [
    {
     "name": "stdout",
     "output_type": "stream",
     "text": [
      "['en' 'ja' 'ja']\n",
      "정답률 =  0.6666666666666666\n"
     ]
    }
   ],
   "source": [
    "# 평가하기 --- (*7)\n",
    "y_pred = clf.predict(x_test)\n",
    "print(y_pred)\n",
    "print(\"정답률 = \" , accuracy_score(y_test, y_pred))"
   ]
  },
  {
   "cell_type": "code",
   "execution_count": null,
   "metadata": {},
   "outputs": [],
   "source": []
  }
 ],
 "metadata": {
  "hide_input": false,
  "kernelspec": {
   "display_name": "Python 3",
   "language": "python",
   "name": "python3"
  },
  "language_info": {
   "codemirror_mode": {
    "name": "ipython",
    "version": 3
   },
   "file_extension": ".py",
   "mimetype": "text/x-python",
   "name": "python",
   "nbconvert_exporter": "python",
   "pygments_lexer": "ipython3",
   "version": "3.6.9"
  },
  "toc": {
   "base_numbering": 1,
   "nav_menu": {},
   "number_sections": true,
   "sideBar": true,
   "skip_h1_title": false,
   "title_cell": "Table of Contents",
   "title_sidebar": "Contents",
   "toc_cell": false,
   "toc_position": {},
   "toc_section_display": true,
   "toc_window_display": false
  },
  "varInspector": {
   "cols": {
    "lenName": 16,
    "lenType": 16,
    "lenVar": 40
   },
   "kernels_config": {
    "python": {
     "delete_cmd_postfix": "",
     "delete_cmd_prefix": "del ",
     "library": "var_list.py",
     "varRefreshCmd": "print(var_dic_list())"
    },
    "r": {
     "delete_cmd_postfix": ") ",
     "delete_cmd_prefix": "rm(",
     "library": "var_list.r",
     "varRefreshCmd": "cat(var_dic_list()) "
    }
   },
   "types_to_exclude": [
    "module",
    "function",
    "builtin_function_or_method",
    "instance",
    "_Feature"
   ],
   "window_display": false
  }
 },
 "nbformat": 4,
 "nbformat_minor": 2
}
