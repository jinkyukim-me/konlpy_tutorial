{
 "cells": [
  {
   "cell_type": "markdown",
   "metadata": {},
   "source": [
    "RNN Cell"
   ]
  },
  {
   "cell_type": "markdown",
   "metadata": {},
   "source": [
    "* 미니배치의 크기 B\n",
    "* 입력층 차원의 크기 E\n",
    "* 은닉층 차원의 크기 D\n",
    "* 단어장 크기(고유 단어 개수) 및 최종 출력층 차원의 크기 V\n",
    "* 시퀀스 데이터의 총 길이 T"
   ]
  },
  {
   "cell_type": "code",
   "execution_count": null,
   "metadata": {},
   "outputs": [],
   "source": [
    "# 전체 입력 텐서의 크기 (T, B, E)\n",
    "# 은닉텐서 크기 (B, D)\n",
    "은닉텐서 = 은닉초기화함수(B, D)\n",
    "전체 은닉텐서 출력 저장소 = []\n",
    "for i in range(T):\n",
    "    # i번째 입력텐서 크기 : (B, E)\n",
    "    은닉텐서 = rnn_cell(i 번째 입력값, 은닉텐서)\n",
    "    전체_은닉텐서 출력_저장소에 계산 은닉텐서값 추가\n",
    "#전체 은닉텐서출력 저장소 크기 : (T, B, E)\n",
    "최종출력텐서 = 출력_선형결합층(전체_은닉텐서출력_저장소)\n",
    "최종출력텐서 (T, B, V)"
   ]
  }
 ],
 "metadata": {
  "hide_input": false,
  "kernelspec": {
   "display_name": "Python 3",
   "language": "python",
   "name": "python3"
  },
  "language_info": {
   "codemirror_mode": {
    "name": "ipython",
    "version": 3
   },
   "file_extension": ".py",
   "mimetype": "text/x-python",
   "name": "python",
   "nbconvert_exporter": "python",
   "pygments_lexer": "ipython3",
   "version": "3.6.9"
  },
  "toc": {
   "base_numbering": 1,
   "nav_menu": {},
   "number_sections": true,
   "sideBar": true,
   "skip_h1_title": false,
   "title_cell": "Table of Contents",
   "title_sidebar": "Contents",
   "toc_cell": false,
   "toc_position": {},
   "toc_section_display": true,
   "toc_window_display": false
  },
  "varInspector": {
   "cols": {
    "lenName": 16,
    "lenType": 16,
    "lenVar": 40
   },
   "kernels_config": {
    "python": {
     "delete_cmd_postfix": "",
     "delete_cmd_prefix": "del ",
     "library": "var_list.py",
     "varRefreshCmd": "print(var_dic_list())"
    },
    "r": {
     "delete_cmd_postfix": ") ",
     "delete_cmd_prefix": "rm(",
     "library": "var_list.r",
     "varRefreshCmd": "cat(var_dic_list()) "
    }
   },
   "types_to_exclude": [
    "module",
    "function",
    "builtin_function_or_method",
    "instance",
    "_Feature"
   ],
   "window_display": false
  }
 },
 "nbformat": 4,
 "nbformat_minor": 2
}
