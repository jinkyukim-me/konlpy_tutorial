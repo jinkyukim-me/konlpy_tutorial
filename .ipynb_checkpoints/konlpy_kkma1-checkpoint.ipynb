{
 "cells": [
  {
   "cell_type": "markdown",
   "metadata": {},
   "source": [
    "# 한글 자연어 처리 기초"
   ]
  },
  {
   "cell_type": "code",
   "execution_count": 16,
   "metadata": {
    "ExecuteTime": {
     "end_time": "2019-09-27T01:25:59.713819Z",
     "start_time": "2019-09-27T01:25:59.709829Z"
    }
   },
   "outputs": [],
   "source": [
    " #-*- coding: utf-8 -*-"
   ]
  },
  {
   "cell_type": "code",
   "execution_count": 1,
   "metadata": {
    "ExecuteTime": {
     "end_time": "2019-09-27T01:23:53.432493Z",
     "start_time": "2019-09-27T01:23:53.209569Z"
    }
   },
   "outputs": [],
   "source": [
    "from konlpy.tag import Kkma\n",
    "from konlpy.utils import pprint"
   ]
  },
  {
   "cell_type": "code",
   "execution_count": 2,
   "metadata": {
    "ExecuteTime": {
     "end_time": "2019-09-27T01:23:53.623975Z",
     "start_time": "2019-09-27T01:23:53.434483Z"
    }
   },
   "outputs": [
    {
     "name": "stderr",
     "output_type": "stream",
     "text": [
      "C:\\Users\\go2th\\Miniconda3\\envs\\tensorflow\\lib\\site-packages\\jpype\\_core.py:210: UserWarning: \n",
      "-------------------------------------------------------------------------------\n",
      "Deprecated: convertStrings was not specified when starting the JVM. The default\n",
      "behavior in JPype will be False starting in JPype 0.8. The recommended setting\n",
      "for new code is convertStrings=False.  The legacy value of True was assumed for\n",
      "this session. If you are a user of an application that reported this warning,\n",
      "please file a ticket with the developer.\n",
      "-------------------------------------------------------------------------------\n",
      "\n",
      "  \"\"\")\n"
     ]
    }
   ],
   "source": [
    "kkma = Kkma()"
   ]
  },
  {
   "cell_type": "markdown",
   "metadata": {
    "ExecuteTime": {
     "end_time": "2019-09-27T00:48:03.092122Z",
     "start_time": "2019-09-27T00:48:03.088132Z"
    }
   },
   "source": [
    "## 문장(sentences) 분석"
   ]
  },
  {
   "cell_type": "markdown",
   "metadata": {},
   "source": [
    "* morphs(phrase)\n",
    "    ```\n",
    "    Parse phrase to morphemes.\n",
    "    ```\n",
    "\n",
    "* nouns(phrase)\n",
    "    ```\n",
    "    Noun extractor.\n",
    "    ```\n",
    "    \n",
    "* pos(phrase, flatten=True)\n",
    "    ```\n",
    "    POS(part of speech) tagger.\n",
    "    매개 변수:\tflatten – If False, preserves eojeols.\n",
    "    ```\n",
    "    \n",
    "* sentences(phrase)\n",
    "    ```\n",
    "    Sentence detection.\n",
    "    ```"
   ]
  },
  {
   "cell_type": "code",
   "execution_count": 3,
   "metadata": {
    "ExecuteTime": {
     "end_time": "2019-09-27T01:23:53.629960Z",
     "start_time": "2019-09-27T01:23:53.625972Z"
    }
   },
   "outputs": [],
   "source": [
    "text = u'리얼리티가 뛰어나긴 한데 큰 공감은 안간다. 이민기캐릭터는 정신의학상 분노조절장애 초기 증상일거다. 툭하면 사람패고 욕하고 물건 파손하고.. 조금 오바였음.'"
   ]
  },
  {
   "cell_type": "code",
   "execution_count": 4,
   "metadata": {
    "ExecuteTime": {
     "end_time": "2019-09-27T01:23:59.022294Z",
     "start_time": "2019-09-27T01:23:53.631956Z"
    }
   },
   "outputs": [
    {
     "name": "stdout",
     "output_type": "stream",
     "text": [
      "['리얼리티가 뛰어나긴 한데 큰 공감은 안 간다.',\n",
      " '이민기 캐릭터는 정신의 학상 분노조절 장애 초기 증상일 거다.',\n",
      " '툭하면 사람 패고 욕하고 물건 파손하고.. 조금 오 바였음.']\n"
     ]
    }
   ],
   "source": [
    "# 문장 단위로 찾아냄\n",
    "pprint(kkma.sentences(text))"
   ]
  },
  {
   "cell_type": "code",
   "execution_count": 5,
   "metadata": {
    "ExecuteTime": {
     "end_time": "2019-09-27T01:23:59.132710Z",
     "start_time": "2019-09-27T01:23:59.025286Z"
    }
   },
   "outputs": [],
   "source": [
    "text_s = kkma.sentences(text)"
   ]
  },
  {
   "cell_type": "code",
   "execution_count": 6,
   "metadata": {
    "ExecuteTime": {
     "end_time": "2019-09-27T01:23:59.141017Z",
     "start_time": "2019-09-27T01:23:59.135702Z"
    }
   },
   "outputs": [
    {
     "name": "stdout",
     "output_type": "stream",
     "text": [
      "['리얼리티가 뛰어나긴 한데 큰 공감은 안 간다.',\n",
      " '이민기 캐릭터는 정신의 학상 분노조절 장애 초기 증상일 거다.',\n",
      " '툭하면 사람 패고 욕하고 물건 파손하고.. 조금 오 바였음.']\n"
     ]
    }
   ],
   "source": [
    "pprint(text_s)"
   ]
  },
  {
   "cell_type": "code",
   "execution_count": 7,
   "metadata": {
    "ExecuteTime": {
     "end_time": "2019-09-27T01:23:59.161514Z",
     "start_time": "2019-09-27T01:23:59.146001Z"
    }
   },
   "outputs": [
    {
     "data": {
      "text/plain": [
       "int"
      ]
     },
     "execution_count": 7,
     "metadata": {},
     "output_type": "execute_result"
    }
   ],
   "source": [
    "type(1)"
   ]
  },
  {
   "cell_type": "code",
   "execution_count": 8,
   "metadata": {
    "ExecuteTime": {
     "end_time": "2019-09-27T01:23:59.327972Z",
     "start_time": "2019-09-27T01:23:59.164505Z"
    }
   },
   "outputs": [
    {
     "ename": "NameError",
     "evalue": "name 'sentences' is not defined",
     "output_type": "error",
     "traceback": [
      "\u001b[1;31m---------------------------------------------------------------------------\u001b[0m",
      "\u001b[1;31mNameError\u001b[0m                                 Traceback (most recent call last)",
      "\u001b[1;32m<ipython-input-8-a0e5db375c95>\u001b[0m in \u001b[0;36m<module>\u001b[1;34m\u001b[0m\n\u001b[1;32m----> 1\u001b[1;33m \u001b[0mtype\u001b[0m\u001b[1;33m(\u001b[0m\u001b[0msentences\u001b[0m\u001b[1;33m)\u001b[0m\u001b[1;33m\u001b[0m\u001b[1;33m\u001b[0m\u001b[0m\n\u001b[0m",
      "\u001b[1;31mNameError\u001b[0m: name 'sentences' is not defined"
     ]
    }
   ],
   "source": [
    "type(sentences)"
   ]
  },
  {
   "cell_type": "code",
   "execution_count": 9,
   "metadata": {
    "ExecuteTime": {
     "end_time": "2019-09-27T01:24:28.039653Z",
     "start_time": "2019-09-27T01:24:28.034641Z"
    }
   },
   "outputs": [
    {
     "data": {
      "text/plain": [
       "list"
      ]
     },
     "execution_count": 9,
     "metadata": {},
     "output_type": "execute_result"
    }
   ],
   "source": [
    "type(text_s)"
   ]
  },
  {
   "cell_type": "code",
   "execution_count": 10,
   "metadata": {
    "ExecuteTime": {
     "end_time": "2019-09-27T01:24:28.765356Z",
     "start_time": "2019-09-27T01:24:28.637699Z"
    }
   },
   "outputs": [
    {
     "data": {
      "text/plain": [
       "['리얼리티',\n",
       " '공감',\n",
       " '이민기',\n",
       " '이민기캐릭터',\n",
       " '캐릭터',\n",
       " '정신',\n",
       " '학',\n",
       " '분노',\n",
       " '분노조절장애',\n",
       " '조절',\n",
       " '장애',\n",
       " '초기',\n",
       " '증상',\n",
       " '거',\n",
       " '사람',\n",
       " '물건',\n",
       " '파손',\n",
       " '조금',\n",
       " '오',\n",
       " '오바',\n",
       " '바']"
      ]
     },
     "execution_count": 10,
     "metadata": {},
     "output_type": "execute_result"
    }
   ],
   "source": [
    "kkma.nouns(text)"
   ]
  },
  {
   "cell_type": "code",
   "execution_count": 11,
   "metadata": {
    "ExecuteTime": {
     "end_time": "2019-09-27T01:24:30.223278Z",
     "start_time": "2019-09-27T01:24:29.399662Z"
    }
   },
   "outputs": [],
   "source": [
    "import pandas as pd"
   ]
  },
  {
   "cell_type": "code",
   "execution_count": 12,
   "metadata": {
    "ExecuteTime": {
     "end_time": "2019-09-27T01:24:30.266213Z",
     "start_time": "2019-09-27T01:24:30.256191Z"
    }
   },
   "outputs": [],
   "source": [
    "a1 = pd.read_csv('test1.txt')"
   ]
  },
  {
   "cell_type": "code",
   "execution_count": 13,
   "metadata": {
    "ExecuteTime": {
     "end_time": "2019-09-27T01:24:31.522828Z",
     "start_time": "2019-09-27T01:24:31.512856Z"
    }
   },
   "outputs": [
    {
     "data": {
      "text/html": [
       "<div>\n",
       "<style scoped>\n",
       "    .dataframe tbody tr th:only-of-type {\n",
       "        vertical-align: middle;\n",
       "    }\n",
       "\n",
       "    .dataframe tbody tr th {\n",
       "        vertical-align: top;\n",
       "    }\n",
       "\n",
       "    .dataframe thead th {\n",
       "        text-align: right;\n",
       "    }\n",
       "</style>\n",
       "<table border=\"1\" class=\"dataframe\">\n",
       "  <thead>\n",
       "    <tr style=\"text-align: right;\">\n",
       "      <th></th>\n",
       "      <th>한국어 분석을 시작합니다. 재미있어요~~~ 자연어 처리를 잘하고 싶습니다.</th>\n",
       "    </tr>\n",
       "  </thead>\n",
       "  <tbody>\n",
       "  </tbody>\n",
       "</table>\n",
       "</div>"
      ],
      "text/plain": [
       "Empty DataFrame\n",
       "Columns: [한국어 분석을 시작합니다. 재미있어요~~~ 자연어 처리를 잘하고 싶습니다.]\n",
       "Index: []"
      ]
     },
     "execution_count": 13,
     "metadata": {},
     "output_type": "execute_result"
    }
   ],
   "source": [
    "a1"
   ]
  },
  {
   "cell_type": "code",
   "execution_count": 45,
   "metadata": {
    "ExecuteTime": {
     "end_time": "2019-09-27T01:29:23.536519Z",
     "start_time": "2019-09-27T01:29:23.531502Z"
    }
   },
   "outputs": [],
   "source": [
    "f = open('test1.txt', 'rt', encoding='UTF8')"
   ]
  },
  {
   "cell_type": "code",
   "execution_count": 65,
   "metadata": {
    "ExecuteTime": {
     "end_time": "2019-09-27T01:34:01.598072Z",
     "start_time": "2019-09-27T01:34:01.549011Z"
    }
   },
   "outputs": [],
   "source": [
    "line = f.readlines()"
   ]
  },
  {
   "cell_type": "code",
   "execution_count": 66,
   "metadata": {
    "ExecuteTime": {
     "end_time": "2019-09-27T01:34:01.977433Z",
     "start_time": "2019-09-27T01:34:01.963472Z"
    }
   },
   "outputs": [
    {
     "ename": "TypeError",
     "evalue": "No matching overloads found for kr.lucypark.kkma.KkmaInterface.morphAnalyzer(list), options are:\n\tpublic java.util.List kr.lucypark.kkma.KkmaInterface.morphAnalyzer(java.lang.String) throws java.lang.Exception\n\n\tat JPMethod::findOverload(native\\common\\jp_method.cpp:242)\n\tat JPMethod::findOverload(native\\common\\jp_method.cpp:245)\n\tat JPMethod::invoke(native\\common\\jp_method.cpp:253)\n\tat PyJPMethod::__call__(native\\python\\pyjp_method.cpp:142)\n",
     "output_type": "error",
     "traceback": [
      "\u001b[1;31m---------------------------------------------------------------------------\u001b[0m",
      "\u001b[1;31mTypeError\u001b[0m                                 Traceback (most recent call last)",
      "\u001b[1;32m<ipython-input-66-93298a53a584>\u001b[0m in \u001b[0;36m<module>\u001b[1;34m\u001b[0m\n\u001b[1;32m----> 1\u001b[1;33m \u001b[0mkkma\u001b[0m\u001b[1;33m.\u001b[0m\u001b[0msentences\u001b[0m\u001b[1;33m(\u001b[0m\u001b[0mline\u001b[0m\u001b[1;33m)\u001b[0m\u001b[1;33m\u001b[0m\u001b[1;33m\u001b[0m\u001b[0m\n\u001b[0m",
      "\u001b[1;32m~\\Miniconda3\\envs\\tensorflow\\lib\\site-packages\\konlpy\\tag\\_kkma.py\u001b[0m in \u001b[0;36msentences\u001b[1;34m(self, phrase)\u001b[0m\n\u001b[0;32m     87\u001b[0m         \u001b[1;34m\"\"\"Sentence detection.\"\"\"\u001b[0m\u001b[1;33m\u001b[0m\u001b[1;33m\u001b[0m\u001b[0m\n\u001b[0;32m     88\u001b[0m \u001b[1;33m\u001b[0m\u001b[0m\n\u001b[1;32m---> 89\u001b[1;33m         \u001b[0msentences\u001b[0m \u001b[1;33m=\u001b[0m \u001b[0mself\u001b[0m\u001b[1;33m.\u001b[0m\u001b[0mjki\u001b[0m\u001b[1;33m.\u001b[0m\u001b[0mmorphAnalyzer\u001b[0m\u001b[1;33m(\u001b[0m\u001b[0mphrase\u001b[0m\u001b[1;33m)\u001b[0m\u001b[1;33m\u001b[0m\u001b[1;33m\u001b[0m\u001b[0m\n\u001b[0m\u001b[0;32m     90\u001b[0m         \u001b[1;32mif\u001b[0m \u001b[1;32mnot\u001b[0m \u001b[0msentences\u001b[0m\u001b[1;33m:\u001b[0m \u001b[1;32mreturn\u001b[0m \u001b[1;33m[\u001b[0m\u001b[1;33m]\u001b[0m\u001b[1;33m\u001b[0m\u001b[1;33m\u001b[0m\u001b[0m\n\u001b[0;32m     91\u001b[0m         \u001b[1;32mreturn\u001b[0m \u001b[1;33m[\u001b[0m\u001b[0msentences\u001b[0m\u001b[1;33m.\u001b[0m\u001b[0mget\u001b[0m\u001b[1;33m(\u001b[0m\u001b[0mi\u001b[0m\u001b[1;33m)\u001b[0m\u001b[1;33m.\u001b[0m\u001b[0mgetSentence\u001b[0m\u001b[1;33m(\u001b[0m\u001b[1;33m)\u001b[0m \u001b[1;32mfor\u001b[0m \u001b[0mi\u001b[0m \u001b[1;32min\u001b[0m \u001b[0mrange\u001b[0m\u001b[1;33m(\u001b[0m\u001b[0msentences\u001b[0m\u001b[1;33m.\u001b[0m\u001b[0msize\u001b[0m\u001b[1;33m(\u001b[0m\u001b[1;33m)\u001b[0m\u001b[1;33m)\u001b[0m\u001b[1;33m]\u001b[0m\u001b[1;33m\u001b[0m\u001b[1;33m\u001b[0m\u001b[0m\n",
      "\u001b[1;31mTypeError\u001b[0m: No matching overloads found for kr.lucypark.kkma.KkmaInterface.morphAnalyzer(list), options are:\n\tpublic java.util.List kr.lucypark.kkma.KkmaInterface.morphAnalyzer(java.lang.String) throws java.lang.Exception\n\n\tat JPMethod::findOverload(native\\common\\jp_method.cpp:242)\n\tat JPMethod::findOverload(native\\common\\jp_method.cpp:245)\n\tat JPMethod::invoke(native\\common\\jp_method.cpp:253)\n\tat PyJPMethod::__call__(native\\python\\pyjp_method.cpp:142)\n"
     ]
    }
   ],
   "source": [
    "kkma.sentences(line)"
   ]
  },
  {
   "cell_type": "code",
   "execution_count": 24,
   "metadata": {
    "ExecuteTime": {
     "end_time": "2019-09-27T01:28:11.781676Z",
     "start_time": "2019-09-27T01:28:11.724867Z"
    },
    "scrolled": true
   },
   "outputs": [
    {
     "data": {
      "text/plain": [
       "['한국어 분석을 시작합니다.', '재미있어요~~~', '자연어 처리를 잘하고 싶습니다.']"
      ]
     },
     "execution_count": 24,
     "metadata": {},
     "output_type": "execute_result"
    }
   ],
   "source": [
    "kkma.sentences(\"한국어 분석을 시작합니다. 재미있어요~~~ 자연어 처리를 잘하고 싶습니다.\")"
   ]
  },
  {
   "cell_type": "code",
   "execution_count": 61,
   "metadata": {
    "ExecuteTime": {
     "end_time": "2019-09-27T01:33:27.979494Z",
     "start_time": "2019-09-27T01:33:27.974540Z"
    }
   },
   "outputs": [],
   "source": [
    "f = open('ratings_test.txt', 'rt', encoding='UTF8')"
   ]
  },
  {
   "cell_type": "code",
   "execution_count": 63,
   "metadata": {
    "ExecuteTime": {
     "end_time": "2019-09-27T01:33:42.187744Z",
     "start_time": "2019-09-27T01:33:42.182759Z"
    }
   },
   "outputs": [],
   "source": [
    "line = f.readline()"
   ]
  },
  {
   "cell_type": "code",
   "execution_count": 64,
   "metadata": {
    "ExecuteTime": {
     "end_time": "2019-09-27T01:33:45.742493Z",
     "start_time": "2019-09-27T01:33:45.736534Z"
    }
   },
   "outputs": [
    {
     "data": {
      "text/plain": [
       "['id document label']"
      ]
     },
     "execution_count": 64,
     "metadata": {},
     "output_type": "execute_result"
    }
   ],
   "source": [
    "kkma.sentences(line)"
   ]
  },
  {
   "cell_type": "code",
   "execution_count": 67,
   "metadata": {
    "ExecuteTime": {
     "end_time": "2019-09-27T01:34:41.548750Z",
     "start_time": "2019-09-27T01:34:41.479904Z"
    }
   },
   "outputs": [
    {
     "data": {
      "text/plain": [
       "['리얼리티',\n",
       " '공감',\n",
       " '이민기',\n",
       " '이민기캐릭터',\n",
       " '캐릭터',\n",
       " '정신',\n",
       " '학',\n",
       " '분노',\n",
       " '분노조절장애',\n",
       " '조절',\n",
       " '장애',\n",
       " '초기',\n",
       " '증상',\n",
       " '거',\n",
       " '사람',\n",
       " '물건',\n",
       " '파손',\n",
       " '조금',\n",
       " '오',\n",
       " '오바',\n",
       " '바']"
      ]
     },
     "execution_count": 67,
     "metadata": {},
     "output_type": "execute_result"
    }
   ],
   "source": [
    "kkma.nouns(text)"
   ]
  },
  {
   "cell_type": "code",
   "execution_count": null,
   "metadata": {
    "ExecuteTime": {
     "end_time": "2019-09-27T01:23:59.347390Z",
     "start_time": "2019-09-27T01:23:53.271Z"
    },
    "scrolled": true
   },
   "outputs": [],
   "source": [
    "kkma.sentences(u'한글 자연어 처리 입니다.')"
   ]
  },
  {
   "cell_type": "code",
   "execution_count": null,
   "metadata": {
    "ExecuteTime": {
     "end_time": "2019-09-27T01:23:59.350368Z",
     "start_time": "2019-09-27T01:23:53.274Z"
    }
   },
   "outputs": [],
   "source": [
    "kkma.sentences('그래도 계속 공부합니다. 재밌으니까!')"
   ]
  },
  {
   "cell_type": "code",
   "execution_count": null,
   "metadata": {
    "ExecuteTime": {
     "end_time": "2019-09-27T01:23:59.352363Z",
     "start_time": "2019-09-27T01:23:53.276Z"
    }
   },
   "outputs": [],
   "source": [
    "#taget : 형식들에 대한 정보 파악\n",
    "kkma.tagset"
   ]
  },
  {
   "cell_type": "code",
   "execution_count": 70,
   "metadata": {
    "ExecuteTime": {
     "end_time": "2019-09-27T01:35:02.461919Z",
     "start_time": "2019-09-27T01:35:02.376636Z"
    }
   },
   "outputs": [
    {
     "data": {
      "text/plain": [
       "[('리얼리티', 'NNG'),\n",
       " ('가', 'JKS'),\n",
       " ('뛰어나', 'VA'),\n",
       " ('기', 'ETN'),\n",
       " ('는', 'JKS'),\n",
       " ('한데', 'MAG'),\n",
       " ('크', 'VA'),\n",
       " ('ㄴ', 'ETD'),\n",
       " ('공감', 'NNG'),\n",
       " ('은', 'JX'),\n",
       " ('안', 'MAG'),\n",
       " ('갈', 'VV'),\n",
       " ('ㄴ다', 'EFN'),\n",
       " ('.', 'SF'),\n",
       " ('이민기', 'NNG'),\n",
       " ('캐릭터', 'NNG'),\n",
       " ('는', 'JX'),\n",
       " ('정신', 'NNG'),\n",
       " ('의', 'JKG'),\n",
       " ('학', 'NNG'),\n",
       " ('상', 'XSN'),\n",
       " ('분노', 'NNG'),\n",
       " ('조절', 'NNG'),\n",
       " ('장애', 'NNG'),\n",
       " ('초기', 'NNG'),\n",
       " ('증상', 'NNG'),\n",
       " ('이', 'VCP'),\n",
       " ('ㄹ', 'ETD'),\n",
       " ('거', 'NNB'),\n",
       " ('이', 'VCP'),\n",
       " ('다', 'EFN'),\n",
       " ('.', 'SF'),\n",
       " ('툭하면', 'MAG'),\n",
       " ('사람', 'NNG'),\n",
       " ('패', 'VV'),\n",
       " ('고', 'ECE'),\n",
       " ('욕하', 'VV'),\n",
       " ('고', 'ECE'),\n",
       " ('물건', 'NNG'),\n",
       " ('파손', 'NNG'),\n",
       " ('하', 'XSV'),\n",
       " ('고', 'ECE'),\n",
       " ('..', 'SW'),\n",
       " ('조금', 'NNG'),\n",
       " ('오', 'NNG'),\n",
       " ('바', 'NNG'),\n",
       " ('이', 'VCP'),\n",
       " ('었', 'EPT'),\n",
       " ('음', 'ETN'),\n",
       " ('.', 'SF')]"
      ]
     },
     "execution_count": 70,
     "metadata": {},
     "output_type": "execute_result"
    }
   ],
   "source": [
    "kkma.pos(text)"
   ]
  },
  {
   "cell_type": "code",
   "execution_count": 71,
   "metadata": {
    "ExecuteTime": {
     "end_time": "2019-09-27T01:35:19.558133Z",
     "start_time": "2019-09-27T01:35:19.551182Z"
    }
   },
   "outputs": [
    {
     "data": {
      "text/plain": [
       "{'EC': '연결 어미',\n",
       " 'ECD': '의존적 연결 어미',\n",
       " 'ECE': '대등 연결 어미',\n",
       " 'ECS': '보조적 연결 어미',\n",
       " 'EF': '종결 어미',\n",
       " 'EFA': '청유형 종결 어미',\n",
       " 'EFI': '감탄형 종결 어미',\n",
       " 'EFN': '평서형 종결 어미',\n",
       " 'EFO': '명령형 종결 어미',\n",
       " 'EFQ': '의문형 종결 어미',\n",
       " 'EFR': '존칭형 종결 어미',\n",
       " 'EP': '선어말 어미',\n",
       " 'EPH': '존칭 선어말 어미',\n",
       " 'EPP': '공손 선어말 어미',\n",
       " 'EPT': '시제 선어말 어미',\n",
       " 'ET': '전성 어미',\n",
       " 'ETD': '관형형 전성 어미',\n",
       " 'ETN': '명사형 전성 어미',\n",
       " 'IC': '감탄사',\n",
       " 'JC': '접속 조사',\n",
       " 'JK': '조사',\n",
       " 'JKC': '보격 조사',\n",
       " 'JKG': '관형격 조사',\n",
       " 'JKI': '호격 조사',\n",
       " 'JKM': '부사격 조사',\n",
       " 'JKO': '목적격 조사',\n",
       " 'JKQ': '인용격 조사',\n",
       " 'JKS': '주격 조사',\n",
       " 'JX': '보조사',\n",
       " 'MA': '부사',\n",
       " 'MAC': '접속 부사',\n",
       " 'MAG': '일반 부사',\n",
       " 'MD': '관형사',\n",
       " 'MDN': '수 관형사',\n",
       " 'MDT': '일반 관형사',\n",
       " 'NN': '명사',\n",
       " 'NNB': '일반 의존 명사',\n",
       " 'NNG': '보통명사',\n",
       " 'NNM': '단위 의존 명사',\n",
       " 'NNP': '고유명사',\n",
       " 'NP': '대명사',\n",
       " 'NR': '수사',\n",
       " 'OH': '한자',\n",
       " 'OL': '외국어',\n",
       " 'ON': '숫자',\n",
       " 'SE': '줄임표',\n",
       " 'SF': '마침표, 물음표, 느낌표',\n",
       " 'SO': '붙임표(물결,숨김,빠짐)',\n",
       " 'SP': '쉼표,가운뎃점,콜론,빗금',\n",
       " 'SS': '따옴표,괄호표,줄표',\n",
       " 'SW': '기타기호 (논리수학기호,화폐기호)',\n",
       " 'UN': '명사추정범주',\n",
       " 'VA': '형용사',\n",
       " 'VC': '지정사',\n",
       " 'VCN': \"부정 지정사, 형용사 '아니다'\",\n",
       " 'VCP': \"긍정 지정사, 서술격 조사 '이다'\",\n",
       " 'VV': '동사',\n",
       " 'VX': '보조 용언',\n",
       " 'VXA': '보조 형용사',\n",
       " 'VXV': '보조 동사',\n",
       " 'XP': '접두사',\n",
       " 'XPN': '체언 접두사',\n",
       " 'XPV': '용언 접두사',\n",
       " 'XR': '어근',\n",
       " 'XSA': '형용사 파생 접미사',\n",
       " 'XSN': '명사파생 접미사',\n",
       " 'XSV': '동사 파생 접미사'}"
      ]
     },
     "execution_count": 71,
     "metadata": {},
     "output_type": "execute_result"
    }
   ],
   "source": [
    "kkma.tagset"
   ]
  },
  {
   "cell_type": "code",
   "execution_count": 72,
   "metadata": {
    "ExecuteTime": {
     "end_time": "2019-09-27T01:35:46.967319Z",
     "start_time": "2019-09-27T01:35:46.908894Z"
    }
   },
   "outputs": [
    {
     "data": {
      "text/plain": [
       "['리얼리티',\n",
       " '공감',\n",
       " '이민기',\n",
       " '이민기캐릭터',\n",
       " '캐릭터',\n",
       " '정신',\n",
       " '학',\n",
       " '분노',\n",
       " '분노조절장애',\n",
       " '조절',\n",
       " '장애',\n",
       " '초기',\n",
       " '증상',\n",
       " '거',\n",
       " '사람',\n",
       " '물건',\n",
       " '파손',\n",
       " '조금',\n",
       " '오',\n",
       " '오바',\n",
       " '바']"
      ]
     },
     "execution_count": 72,
     "metadata": {},
     "output_type": "execute_result"
    }
   ],
   "source": [
    "kkma.nouns(text)"
   ]
  },
  {
   "cell_type": "code",
   "execution_count": 73,
   "metadata": {
    "ExecuteTime": {
     "end_time": "2019-09-27T01:36:00.315399Z",
     "start_time": "2019-09-27T01:36:00.267497Z"
    }
   },
   "outputs": [
    {
     "data": {
      "text/plain": [
       "['리얼리티가 뛰어나긴 한데 큰 공감은 안 간다.',\n",
       " '이민기 캐릭터는 정신의 학상 분노조절 장애 초기 증상일 거다.',\n",
       " '툭하면 사람 패고 욕하고 물건 파손하고.. 조금 오 바였음.']"
      ]
     },
     "execution_count": 73,
     "metadata": {},
     "output_type": "execute_result"
    }
   ],
   "source": [
    "kkma.sentences(text)"
   ]
  },
  {
   "cell_type": "code",
   "execution_count": 74,
   "metadata": {
    "ExecuteTime": {
     "end_time": "2019-09-27T01:36:59.577251Z",
     "start_time": "2019-09-27T01:36:59.573264Z"
    }
   },
   "outputs": [],
   "source": [
    "from konlpy.tag import Hannanum"
   ]
  },
  {
   "cell_type": "code",
   "execution_count": 75,
   "metadata": {
    "ExecuteTime": {
     "end_time": "2019-09-27T01:37:19.972301Z",
     "start_time": "2019-09-27T01:37:19.957342Z"
    }
   },
   "outputs": [],
   "source": [
    "hannaum = Hannanum()"
   ]
  },
  {
   "cell_type": "code",
   "execution_count": 76,
   "metadata": {
    "ExecuteTime": {
     "end_time": "2019-09-27T01:37:31.791875Z",
     "start_time": "2019-09-27T01:37:31.327476Z"
    }
   },
   "outputs": [
    {
     "data": {
      "text/plain": [
       "['리얼리티',\n",
       " '뛰어나긴',\n",
       " '공감',\n",
       " '안간다',\n",
       " '이민기캐릭터',\n",
       " '정신의학상',\n",
       " '분노조절장애',\n",
       " '초',\n",
       " '증상일거',\n",
       " '사람패',\n",
       " '욕',\n",
       " '물건',\n",
       " '파손',\n",
       " '오바']"
      ]
     },
     "execution_count": 76,
     "metadata": {},
     "output_type": "execute_result"
    }
   ],
   "source": [
    "hannaum.nouns(text)"
   ]
  },
  {
   "cell_type": "code",
   "execution_count": 77,
   "metadata": {
    "ExecuteTime": {
     "end_time": "2019-09-27T01:37:55.688814Z",
     "start_time": "2019-09-27T01:37:55.293750Z"
    }
   },
   "outputs": [
    {
     "data": {
      "text/plain": [
       "[[[('리얼리티', 'ncn'), ('가', 'jcc')], [('리얼리티', 'ncn'), ('가', 'jcs')]],\n",
       " [[('뛰어나긴', 'ncn')], [('뛰어나긴', 'nqq')]],\n",
       " [[('한데', 'mag')],\n",
       "  [('한데', 'ncn')],\n",
       "  [('하', 'pvg'), ('ㄴ데', 'ecs')],\n",
       "  [('하', 'pvg'), ('ㄴ', 'etm'), ('데', 'nbn')],\n",
       "  [('하', 'px'), ('ㄴ데', 'ecs')],\n",
       "  [('하', 'px'), ('ㄴ', 'etm'), ('데', 'nbn')]],\n",
       " [[('크', 'paa'), ('ㄴ', 'etm')]],\n",
       " [[('공감', 'ncpa'), ('은', 'jxc')], [('공감', 'ncpa'), ('은', 'ncn')]],\n",
       " [[('안간다', 'ncn')], [('안간다', 'nqq')]],\n",
       " [[('.', 'sf')], [('.', 'sy')]],\n",
       " [],\n",
       " [[('이민기캐릭터', 'ncn'), ('는', 'jxc')],\n",
       "  [('이민기캐릭터는', 'ncn')],\n",
       "  [('이민기캐릭터', 'nqq'), ('는', 'jxc')],\n",
       "  [('이민기캐릭터는', 'nqq')]],\n",
       " [[('정신의학', 'ncn'), ('상', 'ncn')],\n",
       "  [('정신의학', 'ncn'), ('상', 'xsncc')],\n",
       "  [('정신', 'ncn'), ('의학상', 'ncn')],\n",
       "  [('정신', 'ncn'), ('의학', 'ncn'), ('상', 'ncn')],\n",
       "  [('정신', 'ncn'), ('의학', 'ncn'), ('상', 'xsncc')]],\n",
       " [[('분노', 'ncpa'), ('조절', 'ncpa'), ('장애', 'ncn')]],\n",
       " [[('초기', 'ncn')],\n",
       "  [('초', 'nbu'), ('이', 'jp'), ('기', 'etn')],\n",
       "  [('초', 'ncn'), ('이', 'jp'), ('기', 'etn')]],\n",
       " [[('증상', 'ncn'), ('일거', 'ncn'), ('이', 'jp'), ('다', 'ef')]],\n",
       " [[('.', 'sf')], [('.', 'sy')]],\n",
       " [],\n",
       " [[('툭하면', 'mag')]],\n",
       " [[('사람', 'ncn'), ('패', 'ncn'), ('고', 'jcj')],\n",
       "  [('사람', 'ncn'), ('패', 'ncn'), ('이', 'jp'), ('고', 'ecc')],\n",
       "  [('사람', 'ncn'), ('패', 'ncn'), ('이', 'jp'), ('고', 'ecs')],\n",
       "  [('사람', 'ncn'), ('패', 'ncn'), ('이', 'jp'), ('고', 'ecx')]],\n",
       " [[('욕', 'ncn'), ('하고', 'jcj')],\n",
       "  [('욕', 'ncn'), ('하고', 'jct')],\n",
       "  [('욕', 'ncpa'), ('하고', 'jcj')],\n",
       "  [('욕', 'ncpa'), ('하고', 'jct')],\n",
       "  [('욕', 'ncpa'), ('하', 'xsva'), ('고', 'ecc')],\n",
       "  [('욕', 'ncpa'), ('하', 'xsva'), ('고', 'ecs')],\n",
       "  [('욕', 'ncpa'), ('하', 'xsva'), ('고', 'ecx')],\n",
       "  [('욕', 'ncpa'), ('하', 'xsva'), ('어', 'ef'), ('고', 'jcr')],\n",
       "  [('욕', 'ncps'), ('하고', 'jcj')],\n",
       "  [('욕', 'ncps'), ('하고', 'jct')],\n",
       "  [('욕', 'ncps'), ('하', 'xsms'), ('고', 'ecc')],\n",
       "  [('욕', 'ncps'), ('하', 'xsms'), ('고', 'ecs')],\n",
       "  [('욕', 'ncps'), ('하', 'xsms'), ('고', 'ecx')],\n",
       "  [('욕', 'ncps'), ('하', 'xsms'), ('어', 'ef'), ('고', 'jcr')]],\n",
       " [[('물건', 'ncn')],\n",
       "  [('물', 'nbu'), ('건', 'xsnx')],\n",
       "  [('물', 'ncn'), ('건', 'xsnx')],\n",
       "  [('물', 'pvg'), ('건', 'ecc')],\n",
       "  [('물', 'pvg'), ('건', 'ecs')]],\n",
       " [[('파손', 'ncpa'), ('하고', 'jcj')],\n",
       "  [('파손', 'ncpa'), ('하고', 'jct')],\n",
       "  [('파손', 'ncpa'), ('하', 'xsva'), ('고', 'ecc')],\n",
       "  [('파손', 'ncpa'), ('하', 'xsva'), ('고', 'ecs')],\n",
       "  [('파손', 'ncpa'), ('하', 'xsva'), ('고', 'ecx')],\n",
       "  [('파손', 'ncpa'), ('하', 'xsva'), ('어', 'ef'), ('고', 'jcr')]],\n",
       " [[('.', 'sf'), ('.', 'sf')],\n",
       "  [('.', 'sf'), ('.', 'sy')],\n",
       "  [('.', 'sy'), ('.', 'sf')],\n",
       "  [('.', 'sy'), ('.', 'sy')]],\n",
       " [],\n",
       " [[('조금', 'mag')]],\n",
       " [[('오', 'nnc'), ('바', 'nbu'), ('이', 'jp'), ('었', 'ep'), ('음', 'etn')]],\n",
       " [[('.', 'sf')], [('.', 'sy')]]]"
      ]
     },
     "execution_count": 77,
     "metadata": {},
     "output_type": "execute_result"
    }
   ],
   "source": [
    "hannaum.analyze(text)"
   ]
  },
  {
   "cell_type": "code",
   "execution_count": 78,
   "metadata": {
    "ExecuteTime": {
     "end_time": "2019-09-27T01:38:12.124337Z",
     "start_time": "2019-09-27T01:38:12.066485Z"
    }
   },
   "outputs": [
    {
     "data": {
      "text/plain": [
       "['리얼리티',\n",
       " '가',\n",
       " '뛰어나',\n",
       " '기',\n",
       " '는',\n",
       " '한데',\n",
       " '크',\n",
       " 'ㄴ',\n",
       " '공감',\n",
       " '은',\n",
       " '안',\n",
       " '갈',\n",
       " 'ㄴ다',\n",
       " '.',\n",
       " '이민기',\n",
       " '캐릭터',\n",
       " '는',\n",
       " '정신',\n",
       " '의',\n",
       " '학',\n",
       " '상',\n",
       " '분노',\n",
       " '조절',\n",
       " '장애',\n",
       " '초기',\n",
       " '증상',\n",
       " '이',\n",
       " 'ㄹ',\n",
       " '거',\n",
       " '이',\n",
       " '다',\n",
       " '.',\n",
       " '툭하면',\n",
       " '사람',\n",
       " '패',\n",
       " '고',\n",
       " '욕하',\n",
       " '고',\n",
       " '물건',\n",
       " '파손',\n",
       " '하',\n",
       " '고',\n",
       " '..',\n",
       " '조금',\n",
       " '오',\n",
       " '바',\n",
       " '이',\n",
       " '었',\n",
       " '음',\n",
       " '.']"
      ]
     },
     "execution_count": 78,
     "metadata": {},
     "output_type": "execute_result"
    }
   ],
   "source": [
    "kkma.morphs(text)"
   ]
  },
  {
   "cell_type": "code",
   "execution_count": 79,
   "metadata": {
    "ExecuteTime": {
     "end_time": "2019-09-27T01:38:32.538202Z",
     "start_time": "2019-09-27T01:38:32.527230Z"
    }
   },
   "outputs": [
    {
     "ename": "TypeError",
     "evalue": "'kr.lucypark.jhannanum.comm.HannanumInterface' object is not callable",
     "output_type": "error",
     "traceback": [
      "\u001b[1;31m---------------------------------------------------------------------------\u001b[0m",
      "\u001b[1;31mTypeError\u001b[0m                                 Traceback (most recent call last)",
      "\u001b[1;32m<ipython-input-79-0a1ac27f55fe>\u001b[0m in \u001b[0;36m<module>\u001b[1;34m\u001b[0m\n\u001b[1;32m----> 1\u001b[1;33m \u001b[0mhannaum\u001b[0m\u001b[1;33m.\u001b[0m\u001b[0mjhi\u001b[0m\u001b[1;33m(\u001b[0m\u001b[0mtext\u001b[0m\u001b[1;33m)\u001b[0m\u001b[1;33m\u001b[0m\u001b[1;33m\u001b[0m\u001b[0m\n\u001b[0m",
      "\u001b[1;31mTypeError\u001b[0m: 'kr.lucypark.jhannanum.comm.HannanumInterface' object is not callable"
     ]
    }
   ],
   "source": [
    "hannaum.jhi(text)"
   ]
  },
  {
   "cell_type": "code",
   "execution_count": 80,
   "metadata": {
    "ExecuteTime": {
     "end_time": "2019-09-27T03:13:14.938997Z",
     "start_time": "2019-09-27T03:13:14.925035Z"
    }
   },
   "outputs": [
    {
     "ename": "ImportError",
     "evalue": "cannot import name 'Twitter'",
     "output_type": "error",
     "traceback": [
      "\u001b[1;31m---------------------------------------------------------------------------\u001b[0m",
      "\u001b[1;31mImportError\u001b[0m                               Traceback (most recent call last)",
      "\u001b[1;32m<ipython-input-80-70f83764523d>\u001b[0m in \u001b[0;36m<module>\u001b[1;34m\u001b[0m\n\u001b[1;32m----> 1\u001b[1;33m \u001b[1;32mfrom\u001b[0m \u001b[0mkonlpy\u001b[0m \u001b[1;32mimport\u001b[0m \u001b[0mTwitter\u001b[0m\u001b[1;33m\u001b[0m\u001b[1;33m\u001b[0m\u001b[0m\n\u001b[0m",
      "\u001b[1;31mImportError\u001b[0m: cannot import name 'Twitter'"
     ]
    }
   ],
   "source": [
    "from konlpy import Twitter"
   ]
  },
  {
   "cell_type": "code",
   "execution_count": 81,
   "metadata": {
    "ExecuteTime": {
     "end_time": "2019-09-27T03:13:58.374793Z",
     "start_time": "2019-09-27T03:13:58.370806Z"
    }
   },
   "outputs": [],
   "source": [
    "from konlpy.tag import Twitter"
   ]
  },
  {
   "cell_type": "code",
   "execution_count": 82,
   "metadata": {
    "ExecuteTime": {
     "end_time": "2019-09-27T03:14:05.753059Z",
     "start_time": "2019-09-27T03:14:05.717153Z"
    }
   },
   "outputs": [
    {
     "name": "stderr",
     "output_type": "stream",
     "text": [
      "C:\\Users\\go2th\\Miniconda3\\envs\\tensorflow\\lib\\site-packages\\konlpy\\tag\\_okt.py:16: UserWarning: \"Twitter\" has changed to \"Okt\" since KoNLPy v0.4.5.\n",
      "  warn('\"Twitter\" has changed to \"Okt\" since KoNLPy v0.4.5.')\n"
     ]
    }
   ],
   "source": [
    "T = Twitter()"
   ]
  },
  {
   "cell_type": "code",
   "execution_count": 83,
   "metadata": {
    "ExecuteTime": {
     "end_time": "2019-09-27T03:14:54.236350Z",
     "start_time": "2019-09-27T03:14:54.232362Z"
    }
   },
   "outputs": [],
   "source": [
    "from konlpy.tag import Okt"
   ]
  },
  {
   "cell_type": "code",
   "execution_count": 84,
   "metadata": {
    "ExecuteTime": {
     "end_time": "2019-09-27T03:15:00.423795Z",
     "start_time": "2019-09-27T03:15:00.419808Z"
    }
   },
   "outputs": [],
   "source": [
    "T = Okt()"
   ]
  },
  {
   "cell_type": "code",
   "execution_count": 85,
   "metadata": {
    "ExecuteTime": {
     "end_time": "2019-09-27T03:15:12.748826Z",
     "start_time": "2019-09-27T03:15:12.743838Z"
    }
   },
   "outputs": [
    {
     "data": {
      "text/plain": [
       "'리얼리티가 뛰어나긴 한데 큰 공감은 안간다. 이민기캐릭터는 정신의학상 분노조절장애 초기 증상일거다. 툭하면 사람패고 욕하고 물건 파손하고.. 조금 오바였음.'"
      ]
     },
     "execution_count": 85,
     "metadata": {},
     "output_type": "execute_result"
    }
   ],
   "source": [
    "text"
   ]
  },
  {
   "cell_type": "code",
   "execution_count": 86,
   "metadata": {
    "ExecuteTime": {
     "end_time": "2019-09-27T03:15:31.409936Z",
     "start_time": "2019-09-27T03:15:24.286957Z"
    }
   },
   "outputs": [
    {
     "data": {
      "text/plain": [
       "['리얼리티',\n",
       " '공감',\n",
       " '안',\n",
       " '간다',\n",
       " '이민기',\n",
       " '캐릭터',\n",
       " '정신의학',\n",
       " '분노조절',\n",
       " '장애',\n",
       " '초기',\n",
       " '증상',\n",
       " '툭하면',\n",
       " '사람',\n",
       " '패',\n",
       " '욕',\n",
       " '물건',\n",
       " '파손',\n",
       " '조금',\n",
       " '바']"
      ]
     },
     "execution_count": 86,
     "metadata": {},
     "output_type": "execute_result"
    }
   ],
   "source": [
    "T.nouns(text)"
   ]
  },
  {
   "cell_type": "code",
   "execution_count": 87,
   "metadata": {
    "ExecuteTime": {
     "end_time": "2019-09-27T03:15:50.222573Z",
     "start_time": "2019-09-27T03:15:50.165724Z"
    }
   },
   "outputs": [
    {
     "data": {
      "text/plain": [
       "['리얼리티',\n",
       " '가',\n",
       " '뛰어나긴',\n",
       " '한데',\n",
       " '큰',\n",
       " '공감',\n",
       " '은',\n",
       " '안',\n",
       " '간다',\n",
       " '.',\n",
       " '이민기',\n",
       " '캐릭터',\n",
       " '는',\n",
       " '정신의학',\n",
       " '상',\n",
       " '분노조절',\n",
       " '장애',\n",
       " '초기',\n",
       " '증상',\n",
       " '일거다',\n",
       " '.',\n",
       " '툭하면',\n",
       " '사람',\n",
       " '패',\n",
       " '고',\n",
       " '욕',\n",
       " '하고',\n",
       " '물건',\n",
       " '파손',\n",
       " '하고',\n",
       " '..',\n",
       " '조금',\n",
       " '오',\n",
       " '바',\n",
       " '였음',\n",
       " '.']"
      ]
     },
     "execution_count": 87,
     "metadata": {},
     "output_type": "execute_result"
    }
   ],
   "source": [
    "T.morphs(text)"
   ]
  },
  {
   "cell_type": "code",
   "execution_count": 88,
   "metadata": {
    "ExecuteTime": {
     "end_time": "2019-09-27T03:16:15.950787Z",
     "start_time": "2019-09-27T03:16:15.915881Z"
    }
   },
   "outputs": [
    {
     "data": {
      "text/plain": [
       "[('리얼리티', 'Noun'),\n",
       " ('가', 'Josa'),\n",
       " ('뛰어나긴', 'Adjective'),\n",
       " ('한데', 'Eomi'),\n",
       " ('큰', 'Verb'),\n",
       " ('공감', 'Noun'),\n",
       " ('은', 'Josa'),\n",
       " ('안', 'Noun'),\n",
       " ('간다', 'Noun'),\n",
       " ('.', 'Punctuation'),\n",
       " ('이민기', 'Noun'),\n",
       " ('캐릭터', 'Noun'),\n",
       " ('는', 'Josa'),\n",
       " ('정신의학', 'Noun'),\n",
       " ('상', 'Suffix'),\n",
       " ('분노조절', 'Noun'),\n",
       " ('장애', 'Noun'),\n",
       " ('초기', 'Noun'),\n",
       " ('증상', 'Noun'),\n",
       " ('일거다', 'Verb'),\n",
       " ('.', 'Punctuation'),\n",
       " ('툭하면', 'Noun'),\n",
       " ('사람', 'Noun'),\n",
       " ('패', 'Noun'),\n",
       " ('고', 'Josa'),\n",
       " ('욕', 'Noun'),\n",
       " ('하고', 'Josa'),\n",
       " ('물건', 'Noun'),\n",
       " ('파손', 'Noun'),\n",
       " ('하고', 'Josa'),\n",
       " ('..', 'Punctuation'),\n",
       " ('조금', 'Noun'),\n",
       " ('오', 'Modifier'),\n",
       " ('바', 'Noun'),\n",
       " ('였음', 'Verb'),\n",
       " ('.', 'Punctuation')]"
      ]
     },
     "execution_count": 88,
     "metadata": {},
     "output_type": "execute_result"
    }
   ],
   "source": [
    "T.pos(text)"
   ]
  },
  {
   "cell_type": "code",
   "execution_count": 89,
   "metadata": {
    "ExecuteTime": {
     "end_time": "2019-09-27T03:16:33.144788Z",
     "start_time": "2019-09-27T03:16:33.139802Z"
    }
   },
   "outputs": [
    {
     "data": {
      "text/plain": [
       "{'Adjective': '형용사',\n",
       " 'Adverb': '부사',\n",
       " 'Alpha': '알파벳',\n",
       " 'Conjunction': '접속사',\n",
       " 'Determiner': '관형사',\n",
       " 'Eomi': '어미',\n",
       " 'Exclamation': '감탄사',\n",
       " 'Foreign': '외국어, 한자 및 기타기호',\n",
       " 'Hashtag': '트위터 해쉬태그',\n",
       " 'Josa': '조사',\n",
       " 'KoreanParticle': '(ex: ㅋㅋ)',\n",
       " 'Noun': '명사',\n",
       " 'Number': '숫자',\n",
       " 'PreEomi': '선어말어미',\n",
       " 'Punctuation': '구두점',\n",
       " 'ScreenName': '트위터 아이디',\n",
       " 'Suffix': '접미사',\n",
       " 'Unknown': '미등록어',\n",
       " 'Verb': '동사'}"
      ]
     },
     "execution_count": 89,
     "metadata": {},
     "output_type": "execute_result"
    }
   ],
   "source": [
    "T.tagset"
   ]
  },
  {
   "cell_type": "code",
   "execution_count": null,
   "metadata": {},
   "outputs": [],
   "source": []
  }
 ],
 "metadata": {
  "hide_input": false,
  "kernelspec": {
   "display_name": "Python 3",
   "language": "python",
   "name": "python3"
  },
  "language_info": {
   "codemirror_mode": {
    "name": "ipython",
    "version": 3
   },
   "file_extension": ".py",
   "mimetype": "text/x-python",
   "name": "python",
   "nbconvert_exporter": "python",
   "pygments_lexer": "ipython3",
   "version": "3.6.9"
  },
  "toc": {
   "base_numbering": 1,
   "nav_menu": {},
   "number_sections": true,
   "sideBar": true,
   "skip_h1_title": false,
   "title_cell": "Table of Contents",
   "title_sidebar": "Contents",
   "toc_cell": false,
   "toc_position": {},
   "toc_section_display": true,
   "toc_window_display": false
  },
  "varInspector": {
   "cols": {
    "lenName": 16,
    "lenType": 16,
    "lenVar": 40
   },
   "kernels_config": {
    "python": {
     "delete_cmd_postfix": "",
     "delete_cmd_prefix": "del ",
     "library": "var_list.py",
     "varRefreshCmd": "print(var_dic_list())"
    },
    "r": {
     "delete_cmd_postfix": ") ",
     "delete_cmd_prefix": "rm(",
     "library": "var_list.r",
     "varRefreshCmd": "cat(var_dic_list()) "
    }
   },
   "types_to_exclude": [
    "module",
    "function",
    "builtin_function_or_method",
    "instance",
    "_Feature"
   ],
   "window_display": false
  }
 },
 "nbformat": 4,
 "nbformat_minor": 2
}
