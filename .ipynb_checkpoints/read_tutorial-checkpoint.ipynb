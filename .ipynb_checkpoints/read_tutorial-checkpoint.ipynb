{
 "cells": [
  {
   "cell_type": "markdown",
   "metadata": {},
   "source": [
    "# 파일 읽기, read() 메소드"
   ]
  },
  {
   "cell_type": "markdown",
   "metadata": {},
   "source": [
    "## 파일을 읽어 오기 위한 메소드(method)는 다음 3개가 있다\n",
    "\n",
    "* read()\n",
    "* readline()\n",
    "* readlines()"
   ]
  },
  {
   "cell_type": "markdown",
   "metadata": {},
   "source": [
    "### read()\n",
    "파일 전체의 내용을 하나의 문자열로 읽어온다<br>Binary 파일도 읽을 수 있다"
   ]
  },
  {
   "cell_type": "markdown",
   "metadata": {},
   "source": [
    "### readline()\n",
    "한번에 하나의 라인을 읽어오는 메소드이다"
   ]
  },
  {
   "cell_type": "markdown",
   "metadata": {},
   "source": [
    "### readlines()\n",
    "파일 전체를 한라인씩 읽어와서 리스트를 만들어 주는 메소드<br>\n",
    "개행문자인 '\\n'도 같이 들어가 있기 때문에 이 부분을 제거해주는 commnad가 필요할 수도 있다"
   ]
  },
  {
   "cell_type": "markdown",
   "metadata": {},
   "source": [
    "## 응용"
   ]
  },
  {
   "cell_type": "markdown",
   "metadata": {},
   "source": [
    "* 파일 전체를 읽을 때 readlines()를 주로 활용\n",
    "* 가장 잘 활용하게 될 commnad"
   ]
  },
  {
   "cell_type": "markdown",
   "metadata": {
    "ExecuteTime": {
     "end_time": "2019-09-30T02:04:28.244668Z",
     "start_time": "2019-09-30T02:04:28.240678Z"
    }
   },
   "source": [
    "### 파일을 읽어올 때"
   ]
  },
  {
   "cell_type": "code",
   "execution_count": 5,
   "metadata": {
    "ExecuteTime": {
     "end_time": "2019-09-30T01:51:26.297712Z",
     "start_time": "2019-09-30T01:51:26.290730Z"
    }
   },
   "outputs": [
    {
     "name": "stdout",
     "output_type": "stream",
     "text": [
      "ZD Net Korea\n",
      "\n",
      "애플 '맥북프로' 비행기에서 전원 못 켠다\n",
      "\n",
      "국토부, 애플 맥북프로 관련 항공운송 안전조치 권고\n",
      "\n",
      "국토교통부는 미국 애플이 배터리 결함으로 리콜을 실시 중인 맥북프로와 관련한 항공운송 안전조치를 권고했다.\n",
      "\n",
      "국토부는 맥북프로를 갖고 항공기에 탑승한 후 항공기 안에서 충전을 하거나 전원을 켜지 말 것을 권고했다. 또 맥북프로를 위탁수하물로 부치지 말 것을 당부했다.\n",
      "\n",
      "리콜대상 노트북PC는 2015년 9월부터 2017년 2월 사이에 생산·판매된 15인치 제품이다. 정확한 제품은 애플 홈페이지에서 확인할 수 있다.\n",
      "\n",
      "국토부는 항공사와 공항운영자를 대상으로 국토부 권고사항을 탑승객에게 철저히 알리고 위탁수하물 보안검색을 강화할 것을 지시했다.\n"
     ]
    }
   ],
   "source": [
    "# 응용1\n",
    "fp = open('./data/zdnet.txt', 'rt', encoding='UTF8')\n",
    "lines = fp.readlines()\n",
    "for itr in lines:\n",
    "          print(itr)"
   ]
  },
  {
   "cell_type": "code",
   "execution_count": 6,
   "metadata": {
    "ExecuteTime": {
     "end_time": "2019-09-30T01:51:45.360261Z",
     "start_time": "2019-09-30T01:51:45.348296Z"
    },
    "scrolled": false
   },
   "outputs": [
    {
     "data": {
      "text/plain": [
       "['ZD Net Korea\\n',\n",
       " \"애플 '맥북프로' 비행기에서 전원 못 켠다\\n\",\n",
       " '국토부, 애플 맥북프로 관련 항공운송 안전조치 권고\\n',\n",
       " '국토교통부는 미국 애플이 배터리 결함으로 리콜을 실시 중인 맥북프로와 관련한 항공운송 안전조치를 권고했다.\\n',\n",
       " '국토부는 맥북프로를 갖고 항공기에 탑승한 후 항공기 안에서 충전을 하거나 전원을 켜지 말 것을 권고했다. 또 맥북프로를 위탁수하물로 부치지 말 것을 당부했다.\\n',\n",
       " '리콜대상 노트북PC는 2015년 9월부터 2017년 2월 사이에 생산·판매된 15인치 제품이다. 정확한 제품은 애플 홈페이지에서 확인할 수 있다.\\n',\n",
       " '국토부는 항공사와 공항운영자를 대상으로 국토부 권고사항을 탑승객에게 철저히 알리고 위탁수하물 보안검색을 강화할 것을 지시했다.']"
      ]
     },
     "execution_count": 6,
     "metadata": {},
     "output_type": "execute_result"
    }
   ],
   "source": [
    "lines"
   ]
  },
  {
   "cell_type": "markdown",
   "metadata": {},
   "source": [
    "### 개행을 삭제할 때"
   ]
  },
  {
   "cell_type": "code",
   "execution_count": 15,
   "metadata": {
    "ExecuteTime": {
     "end_time": "2019-09-30T02:00:33.795600Z",
     "start_time": "2019-09-30T02:00:33.788595Z"
    }
   },
   "outputs": [
    {
     "name": "stdout",
     "output_type": "stream",
     "text": [
      "ZD Net Korea\n",
      "애플 '맥북프로' 비행기에서 전원 못 켠다\n",
      "국토부, 애플 맥북프로 관련 항공운송 안전조치 권고\n",
      "국토교통부는 미국 애플이 배터리 결함으로 리콜을 실시 중인 맥북프로와 관련한 항공운송 안전조치를 권고했다.\n",
      "국토부는 맥북프로를 갖고 항공기에 탑승한 후 항공기 안에서 충전을 하거나 전원을 켜지 말 것을 권고했다. 또 맥북프로를 위탁수하물로 부치지 말 것을 당부했다.\n",
      "리콜대상 노트북PC는 2015년 9월부터 2017년 2월 사이에 생산·판매된 15인치 제품이다. 정확한 제품은 애플 홈페이지에서 확인할 수 있다.\n",
      "국토부는 항공사와 공항운영자를 대상으로 국토부 권고사항을 탑승객에게 철저히 알리고 위탁수하물 보안검색을 강화할 것을 지시했다\n"
     ]
    }
   ],
   "source": [
    "# 개행을 삭제하는 방법1\n",
    "with open(\"./data/zdnet.txt\", 'rt', encoding='UTF8') as f:\n",
    "    for i in f.readlines():\n",
    "        print(i[:-1])"
   ]
  },
  {
   "cell_type": "code",
   "execution_count": 23,
   "metadata": {
    "ExecuteTime": {
     "end_time": "2019-09-30T02:03:05.989442Z",
     "start_time": "2019-09-30T02:03:05.982460Z"
    }
   },
   "outputs": [
    {
     "name": "stdout",
     "output_type": "stream",
     "text": [
      "ZD Net Korea\n",
      "애플 '맥북프로' 비행기에서 전원 못 켠다\n",
      "국토부, 애플 맥북프로 관련 항공운송 안전조치 권고\n",
      "국토교통부는 미국 애플이 배터리 결함으로 리콜을 실시 중인 맥북프로와 관련한 항공운송 안전조치를 권고했다.\n",
      "국토부는 맥북프로를 갖고 항공기에 탑승한 후 항공기 안에서 충전을 하거나 전원을 켜지 말 것을 권고했다. 또 맥북프로를 위탁수하물로 부치지 말 것을 당부했다.\n",
      "리콜대상 노트북PC는 2015년 9월부터 2017년 2월 사이에 생산·판매된 15인치 제품이다. 정확한 제품은 애플 홈페이지에서 확인할 수 있다.\n",
      "국토부는 항공사와 공항운영자를 대상으로 국토부 권고사항을 탑승객에게 철저히 알리고 위탁수하물 보안검색을 강화할 것을 지시했다.\n"
     ]
    }
   ],
   "source": [
    "# 개행을 삭제하는 방법2\n",
    "with open(\"./data/zdnet.txt\",\"rt\",encoding=\"UTF8\") as f:\n",
    "    for i in f.readlines():\n",
    "        print(i.splitlines()[0])"
   ]
  },
  {
   "cell_type": "code",
   "execution_count": 26,
   "metadata": {
    "ExecuteTime": {
     "end_time": "2019-09-30T02:11:54.897579Z",
     "start_time": "2019-09-30T02:11:54.891592Z"
    }
   },
   "outputs": [
    {
     "name": "stdout",
     "output_type": "stream",
     "text": [
      "ZD Net Korea\n",
      "애플 '맥북프로' 비행기에서 전원 못 켠다\n",
      "국토부, 애플 맥북프로 관련 항공운송 안전조치 권고\n",
      "국토교통부는 미국 애플이 배터리 결함으로 리콜을 실시 중인 맥북프로와 관련한 항공운송 안전조치를 권고했다.\n",
      "국토부는 맥북프로를 갖고 항공기에 탑승한 후 항공기 안에서 충전을 하거나 전원을 켜지 말 것을 권고했다. 또 맥북프로를 위탁수하물로 부치지 말 것을 당부했다.\n",
      "리콜대상 노트북PC는 2015년 9월부터 2017년 2월 사이에 생산·판매된 15인치 제품이다. 정확한 제품은 애플 홈페이지에서 확인할 수 있다.\n",
      "국토부는 항공사와 공항운영자를 대상으로 국토부 권고사항을 탑승객에게 철저히 알리고 위탁수하물 보안검색을 강화할 것을 지시했다.\n"
     ]
    }
   ],
   "source": [
    "# 개행을 삭제하는 방법3\n",
    "fp = open(\"./data/zdnet.txt\",\"rt\",encoding=\"UTF8\")\n",
    "for i in fp.readlines():\n",
    "    print(i.rstrip(\"\\n\"))"
   ]
  },
  {
   "cell_type": "code",
   "execution_count": 27,
   "metadata": {
    "ExecuteTime": {
     "end_time": "2019-09-30T02:21:37.298662Z",
     "start_time": "2019-09-30T02:21:37.291681Z"
    }
   },
   "outputs": [
    {
     "name": "stdout",
     "output_type": "stream",
     "text": [
      "ZD Net Korea\n",
      "애플 '맥북프로' 비행기에서 전원 못 켠다\n",
      "국토부, 애플 맥북프로 관련 항공운송 안전조치 권고\n",
      "국토교통부는 미국 애플이 배터리 결함으로 리콜을 실시 중인 맥북프로와 관련한 항공운송 안전조치를 권고했다.\n",
      "국토부는 맥북프로를 갖고 항공기에 탑승한 후 항공기 안에서 충전을 하거나 전원을 켜지 말 것을 권고했다. 또 맥북프로를 위탁수하물로 부치지 말 것을 당부했다.\n",
      "리콜대상 노트북PC는 2015년 9월부터 2017년 2월 사이에 생산·판매된 15인치 제품이다. 정확한 제품은 애플 홈페이지에서 확인할 수 있다.\n",
      "국토부는 항공사와 공항운영자를 대상으로 국토부 권고사항을 탑승객에게 철저히 알리고 위탁수하물 보안검색을 강화할 것을 지시했다."
     ]
    }
   ],
   "source": [
    "# 개행을 삭제하는 방법4\n",
    "fp = open(\"./data/zdnet.txt\",\"rt\",encoding=\"UTF8\")\n",
    "for i in fp.readlines():\n",
    "    print(i, end=\"\")"
   ]
  },
  {
   "cell_type": "code",
   "execution_count": 28,
   "metadata": {
    "ExecuteTime": {
     "end_time": "2019-09-30T02:24:25.413767Z",
     "start_time": "2019-09-30T02:24:25.405788Z"
    }
   },
   "outputs": [
    {
     "name": "stdout",
     "output_type": "stream",
     "text": [
      "['ZD', 'Net', 'Korea']\n",
      "['애플', \"'맥북프로'\", '비행기에서', '전원', '못', '켠다']\n",
      "['국토부,', '애플', '맥북프로', '관련', '항공운송', '안전조치', '권고']\n",
      "['국토교통부는', '미국', '애플이', '배터리', '결함으로', '리콜을', '실시', '중인', '맥북프로와', '관련한', '항공운송', '안전조치를', '권고했다.']\n",
      "['국토부는', '맥북프로를', '갖고', '항공기에', '탑승한', '후', '항공기', '안에서', '충전을', '하거나', '전원을', '켜지', '말', '것을', '권고했다.', '또', '맥북프로를', '위탁수하물로', '부치지', '말', '것을', '당부했다.']\n",
      "['리콜대상', '노트북PC는', '2015년', '9월부터', '2017년', '2월', '사이에', '생산·판매된', '15인치', '제품이다.', '정확한', '제품은', '애플', '홈페이지에서', '확인할', '수', '있다.']\n",
      "['국토부는', '항공사와', '공항운영자를', '대상으로', '국토부', '권고사항을', '탑승객에게', '철저히', '알리고', '위탁수하물', '보안검색을', '강화할', '것을', '지시했다.']\n"
     ]
    }
   ],
   "source": [
    "# 개행을 삭제하는 방법5\n",
    "def string_to_list(string):\n",
    "    line_list = string.rstrip(\"\\n\")\n",
    "    line_list = line_list.split()\n",
    "    return line_list\n",
    "\n",
    "fp = open(\"./data/zdnet.txt\",\"rt\",encoding=\"UTF8\")\n",
    "for i in fp.readlines():\n",
    "    print(string_to_list(i))"
   ]
  },
  {
   "cell_type": "code",
   "execution_count": null,
   "metadata": {},
   "outputs": [],
   "source": []
  }
 ],
 "metadata": {
  "hide_input": false,
  "kernelspec": {
   "display_name": "Python 3",
   "language": "python",
   "name": "python3"
  },
  "language_info": {
   "codemirror_mode": {
    "name": "ipython",
    "version": 3
   },
   "file_extension": ".py",
   "mimetype": "text/x-python",
   "name": "python",
   "nbconvert_exporter": "python",
   "pygments_lexer": "ipython3",
   "version": "3.6.9"
  },
  "toc": {
   "base_numbering": 1,
   "nav_menu": {},
   "number_sections": true,
   "sideBar": true,
   "skip_h1_title": false,
   "title_cell": "Table of Contents",
   "title_sidebar": "Contents",
   "toc_cell": false,
   "toc_position": {},
   "toc_section_display": true,
   "toc_window_display": false
  },
  "varInspector": {
   "cols": {
    "lenName": 16,
    "lenType": 16,
    "lenVar": 40
   },
   "kernels_config": {
    "python": {
     "delete_cmd_postfix": "",
     "delete_cmd_prefix": "del ",
     "library": "var_list.py",
     "varRefreshCmd": "print(var_dic_list())"
    },
    "r": {
     "delete_cmd_postfix": ") ",
     "delete_cmd_prefix": "rm(",
     "library": "var_list.r",
     "varRefreshCmd": "cat(var_dic_list()) "
    }
   },
   "types_to_exclude": [
    "module",
    "function",
    "builtin_function_or_method",
    "instance",
    "_Feature"
   ],
   "window_display": false
  }
 },
 "nbformat": 4,
 "nbformat_minor": 2
}
